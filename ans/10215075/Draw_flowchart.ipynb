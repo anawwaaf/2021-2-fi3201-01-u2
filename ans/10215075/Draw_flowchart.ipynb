{
 "cells": [
  {
   "cell_type": "markdown",
   "id": "d07999ac",
   "metadata": {},
   "source": [
    "## Comparing two number\n",
    "\n",
    "Salah satu diagram alir untuk membandingkan dua buah bilangan adalah sebagai berikut."
   ]
  },
  {
   "cell_type": "code",
   "execution_count": 1,
   "id": "fe2f1c22",
   "metadata": {},
   "outputs": [],
   "source": [
    "%load_ext nb_js_diagrammers"
   ]
  },
  {
   "cell_type": "code",
   "execution_count": 3,
   "id": "b1a0dfb7",
   "metadata": {},
   "outputs": [
    {
     "data": {
      "text/html": [
       "<iframe srcdoc=\"&lt;html&gt;\n",
       "    &lt;body&gt;\n",
       "        &lt;script src=&quot;https://cdn.jsdelivr.net/npm/mermaid/dist/mermaid.min.js&quot;&gt;&lt;/script&gt;\n",
       "        &lt;script&gt;\n",
       "            mermaid.initialize({ startOnLoad: true });\n",
       "        &lt;/script&gt;\n",
       " \n",
       "        &lt;div class=&quot;mermaid&quot;&gt;\n",
       "            \n",
       "flowchart TD\n",
       "    B([ Mulai ]);\n",
       "    E([ Selesai ]);\n",
       "    I[/ x, y /];\n",
       "    D1{ x &gt; y};\n",
       "    D2{ x = y};\n",
       "    S1[ s = &#x27;x &gt; y&#x27;];\n",
       "    S2[ s = &#x27;x &lt; y&#x27;];\n",
       "    S3[ s = &#x27;x = y&#x27;];\n",
       "    O[/ s /];\n",
       "    B --&gt; I;\n",
       "    I --&gt; D1;\n",
       "    D1 -- Y --&gt; S1;\n",
       "    D1 -- T --&gt; D2;\n",
       "    D2 -- Y --&gt; S3;\n",
       "    D2 -- T --&gt; S2;\n",
       "    S1 --&gt; O;\n",
       "    S2 --&gt; O;\n",
       "    S3 --&gt; O;\n",
       "    O --&gt; E;\n",
       "\n",
       "        &lt;/div&gt;\n",
       " \n",
       "    &lt;/body&gt;\n",
       "&lt;/html&gt;\n",
       "\" width=\"100%\" height=\"160\"style=\"border:none !important;\" \"allowfullscreen\" \"webkitallowfullscreen\" \"mozallowfullscreen\"></iframe>"
      ],
      "text/plain": [
       "<nb_js_diagrammers.magics.JSDiagram at 0x1ebbabba4f0>"
      ]
     },
     "execution_count": 3,
     "metadata": {},
     "output_type": "execute_result"
    }
   ],
   "source": [
    "%%mermaid_magic -h 160\n",
    "\n",
    "flowchart TD\n",
    "    B([ Mulai ]);\n",
    "    E([ Selesai ]);\n",
    "    I[/ x, y /];\n",
    "    D1{ x > y};\n",
    "    D2{ x = y};\n",
    "    S1[ s = 'x > y'];\n",
    "    S2[ s = 'x < y'];\n",
    "    S3[ s = 'x = y'];\n",
    "    O[/ s /];\n",
    "    B --> I;\n",
    "    I --> D1;\n",
    "    D1 -- Y --> S1;\n",
    "    D1 -- T --> D2;\n",
    "    D2 -- Y --> S3;\n",
    "    D2 -- T --> S2;\n",
    "    S1 --> O;\n",
    "    S2 --> O;\n",
    "    S3 --> O;\n",
    "    O --> E;"
   ]
  }
 ],
 "metadata": {
  "kernelspec": {
   "display_name": "Python 3 (ipykernel)",
   "language": "python",
   "name": "python3"
  },
  "language_info": {
   "codemirror_mode": {
    "name": "ipython",
    "version": 3
   },
   "file_extension": ".py",
   "mimetype": "text/x-python",
   "name": "python",
   "nbconvert_exporter": "python",
   "pygments_lexer": "ipython3",
   "version": "3.9.7"
  }
 },
 "nbformat": 4,
 "nbformat_minor": 5
}
